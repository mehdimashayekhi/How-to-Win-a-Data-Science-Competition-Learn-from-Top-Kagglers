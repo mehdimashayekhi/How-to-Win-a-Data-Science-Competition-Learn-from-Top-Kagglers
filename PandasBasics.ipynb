{
 "cells": [
  {
   "cell_type": "markdown",
   "metadata": {},
   "source": [
    "Version 1.0.1"
   ]
  },
  {
   "cell_type": "markdown",
   "metadata": {},
   "source": [
    "# Pandas basics "
   ]
  },
  {
   "cell_type": "markdown",
   "metadata": {},
   "source": [
    "Hi! In this programming assignment you need to refresh your `pandas` knowledge. You will need to do several [`groupby`](https://pandas.pydata.org/pandas-docs/stable/generated/pandas.DataFrame.groupby.html)s and [`join`]()`s to solve the task. "
   ]
  },
  {
   "cell_type": "code",
   "execution_count": 1,
   "metadata": {},
   "outputs": [],
   "source": [
    "import pandas as pd\n",
    "import numpy as np\n",
    "import os\n",
    "import matplotlib.pyplot as plt\n",
    "%matplotlib inline \n",
    "\n",
    "from grader import Grader"
   ]
  },
  {
   "cell_type": "code",
   "execution_count": 2,
   "metadata": {},
   "outputs": [],
   "source": [
    "DATA_FOLDER = '../readonly/final_project_data/'\n",
    "\n",
    "transactions    = pd.read_csv(os.path.join(DATA_FOLDER, 'sales_train.csv.gz'))\n",
    "items           = pd.read_csv(os.path.join(DATA_FOLDER, 'items.csv'))\n",
    "item_categories = pd.read_csv(os.path.join(DATA_FOLDER, 'item_categories.csv'))\n",
    "shops           = pd.read_csv(os.path.join(DATA_FOLDER, 'shops.csv'))"
   ]
  },
  {
   "cell_type": "markdown",
   "metadata": {},
   "source": [
    "The dataset we are going to use is taken from the competition, that serves as the final project for this course. You can find complete data description at the [competition web page](https://www.kaggle.com/c/competitive-data-science-final-project/data). To join the competition use [this link](https://www.kaggle.com/t/1ea93815dca248e99221df42ebde3540)."
   ]
  },
  {
   "cell_type": "markdown",
   "metadata": {},
   "source": [
    "## Grading"
   ]
  },
  {
   "cell_type": "markdown",
   "metadata": {},
   "source": [
    "We will create a grader instace below and use it to collect your answers. When function `submit_tag` is called, grader will store your answer *locally*. The answers will *not* be submited to the platform immediately so you can call `submit_tag` function as many times as you need. \n",
    "\n",
    "When you are ready to push your answers to the platform you should fill your credentials and run `submit` function in the <a href=\"#Authorization-&-Submission\">last paragraph</a>  of the assignment."
   ]
  },
  {
   "cell_type": "code",
   "execution_count": 3,
   "metadata": {},
   "outputs": [],
   "source": [
    "grader = Grader()"
   ]
  },
  {
   "cell_type": "markdown",
   "metadata": {},
   "source": [
    "# Task"
   ]
  },
  {
   "cell_type": "markdown",
   "metadata": {},
   "source": [
    "Let's start with a simple task. \n",
    "\n",
    "<ol start=\"0\">\n",
    "  <li><b>Print the shape of the loaded dataframes and use [`df.head`](https://pandas.pydata.org/pandas-docs/stable/generated/pandas.DataFrame.head.html) function to print several rows. Examine the features you are given.</b></li>\n",
    "</ol>"
   ]
  },
  {
   "cell_type": "code",
   "execution_count": 56,
   "metadata": {},
   "outputs": [
    {
     "name": "stdout",
     "output_type": "stream",
     "text": [
      "transactionssssssssssss\n",
      "(2935849, 9)\n",
      "         date  date_block_num  shop_id  item_id  item_price  item_cnt_day day  \\\n",
      "0  02.01.2013               0       59    22154      999.00           1.0  02   \n",
      "1  03.01.2013               0       25     2552      899.00           1.0  03   \n",
      "2  05.01.2013               0       25     2552      899.00          -1.0  05   \n",
      "3  06.01.2013               0       25     2554     1709.05           1.0  06   \n",
      "4  15.01.2013               0       25     2555     1099.00           1.0  15   \n",
      "5  10.01.2013               0       25     2564      349.00           1.0  10   \n",
      "6  02.01.2013               0       25     2565      549.00           1.0  02   \n",
      "7  04.01.2013               0       25     2572      239.00           1.0  04   \n",
      "8  11.01.2013               0       25     2572      299.00           1.0  11   \n",
      "9  03.01.2013               0       25     2573      299.00           3.0  03   \n",
      "\n",
      "  month  Year  \n",
      "0    01  2013  \n",
      "1    01  2013  \n",
      "2    01  2013  \n",
      "3    01  2013  \n",
      "4    01  2013  \n",
      "5    01  2013  \n",
      "6    01  2013  \n",
      "7    01  2013  \n",
      "8    01  2013  \n",
      "9    01  2013  \n",
      "itemsssssssssssss\n",
      "(22170, 3)\n",
      "                                            item_name  item_id  \\\n",
      "0           ! ВО ВЛАСТИ НАВАЖДЕНИЯ (ПЛАСТ.)         D        0   \n",
      "1   !ABBYY FineReader 12 Professional Edition Full...        1   \n",
      "2       ***В ЛУЧАХ СЛАВЫ   (UNV)                    D        2   \n",
      "3     ***ГОЛУБАЯ ВОЛНА  (Univ)                      D        3   \n",
      "4         ***КОРОБКА (СТЕКЛО)                       D        4   \n",
      "5   ***НОВЫЕ АМЕРИКАНСКИЕ ГРАФФИТИ  (UNI)         ...        5   \n",
      "6            ***УДАР ПО ВОРОТАМ (UNI)               D        6   \n",
      "7          ***УДАР ПО ВОРОТАМ-2 (UNI)               D        7   \n",
      "8            ***ЧАЙ С МУССОЛИНИ                     D        8   \n",
      "9       ***ШУГАРЛЭНДСКИЙ ЭКСПРЕСС (UNI)             D        9   \n",
      "10          *ЗА ГРАНЬЮ СМЕРТИ                       D       10   \n",
      "11          *ЛИНИЯ СМЕРТИ                           D       11   \n",
      "12                    *МИХЕЙ И ДЖУМАНДЖИ  Сука любовь       12   \n",
      "13          *СПАСАЯ ЭМИЛИ                           D       13   \n",
      "14          *ЧОКНУТЫЙ ПРОФЕССОР /МАГИЯ/             D       14   \n",
      "15             //АДРЕНАЛИН: ОДИН ПРОТИВ ВСЕХ (Регион)       15   \n",
      "16                         //МОНГОЛ С.Бодров (Регион)       16   \n",
      "17                    //НЕ ОСТАВЛЯЮЩИЙ СЛЕДА (Регион)       17   \n",
      "18          /БОМБА ДЛЯ НЕВЕСТЫ /2DVD/               D       18   \n",
      "19                          /ЗОЛОТАЯ КОЛЛЕКЦИЯ м/ф-72       19   \n",
      "20                                 /ОДНАЖДЫ В КИТАЕ-2       20   \n",
      "21                                    /ПОСЛЕДНИЙ ШАНС       21   \n",
      "22                               /ПРОКЛЯТЬЕ ЭЛЬ ЧАРРО       22   \n",
      "23                                  /СЕВЕР И ЮГ /Ч.2/       23   \n",
      "24                               /СМЕРТЕЛЬНЫЙ РАСКЛАД       24   \n",
      "25                                        /ТЫ  - ТРУП       25   \n",
      "26                   /УМНОЖАЮЩИЙ ПЕЧАЛЬ т.2 (сер.3-4)       26   \n",
      "27                  007 Legends [PS3, русская версия]       27   \n",
      "28            007 Legends [PС, Jewel, русская версия]       28   \n",
      "29             007 Legends [Xbox 360, русская версия]       29   \n",
      "\n",
      "    item_category_id  \n",
      "0                 40  \n",
      "1                 76  \n",
      "2                 40  \n",
      "3                 40  \n",
      "4                 40  \n",
      "5                 40  \n",
      "6                 40  \n",
      "7                 40  \n",
      "8                 40  \n",
      "9                 40  \n",
      "10                40  \n",
      "11                40  \n",
      "12                55  \n",
      "13                40  \n",
      "14                40  \n",
      "15                40  \n",
      "16                40  \n",
      "17                40  \n",
      "18                40  \n",
      "19                40  \n",
      "20                40  \n",
      "21                40  \n",
      "22                40  \n",
      "23                40  \n",
      "24                40  \n",
      "25                40  \n",
      "26                40  \n",
      "27                19  \n",
      "28                30  \n",
      "29                23  \n",
      "item_categoriessssssssss\n",
      "(84, 2)\n",
      "        item_category_name  item_category_id\n",
      "0  PC - Гарнитуры/Наушники                 0\n",
      "1         Аксессуары - PS2                 1\n",
      "2         Аксессуары - PS3                 2\n",
      "shopsssssss\n",
      "(60, 2)\n",
      "                       shop_name  shop_id\n",
      "0  !Якутск Орджоникидзе, 56 фран        0\n",
      "1  !Якутск ТЦ \"Центральный\" фран        1\n",
      "2               Адыгея ТЦ \"Мега\"        2\n"
     ]
    }
   ],
   "source": [
    "# YOUR CODE GOES HERE\n",
    "print (\"transactionssssssssssss\")\n",
    "print (transactions.shape)\n",
    "print (transactions.head(10))\n",
    "\n",
    "\n",
    "print (\"itemsssssssssssss\")\n",
    "print (items.shape)\n",
    "print (items.head(30))\n",
    "\n",
    "print (\"item_categoriessssssssss\")\n",
    "print (item_categories.shape)\n",
    "print (item_categories.head(3))\n",
    "\n",
    "print (\"shopsssssss\")\n",
    "print (shops.shape)\n",
    "print (shops.head(3))\n"
   ]
  },
  {
   "cell_type": "markdown",
   "metadata": {},
   "source": [
    "Now use your `pandas` skills to get answers for the following questions. \n",
    "The first question is:\n",
    "\n",
    "1. ** What was the maximum total revenue among all the shops in September, 2014?** \n",
    "\n",
    "\n",
    "* Hereinafter *revenue* refers to total sales minus value of goods returned.\n",
    "\n",
    "*Hints:*\n",
    "\n",
    "* Sometimes items are returned, find such examples in the dataset. \n",
    "* It is handy to split `date` field into [`day`, `month`, `year`] components and use `df.year == 14` and `df.month == 9` in order to select target subset of dates.\n",
    "* You may work with `date` feature as with srings, or you may first convert it to `pd.datetime` type with `pd.to_datetime` function, but do not forget to set correct `format` argument."
   ]
  },
  {
   "cell_type": "code",
   "execution_count": 46,
   "metadata": {},
   "outputs": [
    {
     "name": "stdout",
     "output_type": "stream",
     "text": [
      "shop_id\n",
      "2     1.473540e+06\n",
      "3     1.228425e+06\n",
      "4     1.211556e+06\n",
      "5     1.350828e+06\n",
      "6     3.480397e+06\n",
      "7     2.127491e+06\n",
      "10    7.744040e+05\n",
      "12    6.378335e+06\n",
      "14    1.499621e+06\n",
      "15    2.383940e+06\n",
      "16    1.919162e+06\n",
      "17    1.385955e+06\n",
      "18    2.132611e+06\n",
      "19    2.050485e+06\n",
      "21    2.023241e+06\n",
      "22    2.175790e+06\n",
      "24    1.956968e+06\n",
      "25    6.783338e+06\n",
      "26    2.504839e+06\n",
      "27    4.899292e+06\n",
      "28    4.985847e+06\n",
      "29    2.071339e+06\n",
      "30    1.902539e+06\n",
      "31    7.982852e+06\n",
      "33    5.391150e+05\n",
      "34    4.829700e+05\n",
      "35    2.323137e+06\n",
      "37    1.401708e+06\n",
      "38    2.472334e+06\n",
      "39    7.788630e+05\n",
      "40    3.538670e+05\n",
      "41    1.133782e+06\n",
      "42    4.753366e+06\n",
      "43    2.793483e+06\n",
      "44    1.049887e+06\n",
      "45    1.199660e+06\n",
      "46    2.703858e+06\n",
      "47    2.487424e+06\n",
      "48    1.463744e+06\n",
      "49    8.754520e+05\n",
      "50    1.872948e+06\n",
      "51    7.650010e+05\n",
      "52    1.520397e+06\n",
      "53    1.914577e+06\n",
      "54    4.839335e+06\n",
      "55    1.794684e+06\n",
      "56    1.780582e+06\n",
      "57    3.223198e+06\n",
      "58    1.949760e+06\n",
      "59    1.567666e+06\n",
      "Name: revenue, dtype: float64\n",
      "7982852.2\n",
      "Current answer for task max_revenue is: 7982852.2\n"
     ]
    }
   ],
   "source": [
    "# YOUR CODE GOES HERE\n",
    "\n",
    "# df_transactions = transactions.copy()\n",
    "transactions['day'] = [d.split('.')[0] for d in transactions.date]\n",
    "transactions['month'] = [d.split('.')[1] for d in transactions.date]\n",
    "transactions['Year'] = [d.split('.')[2] for d in transactions.date]\n",
    "df_transactions = transactions.copy()\n",
    "\n",
    "df_transactions = df_transactions.loc[(df_transactions['month'] == '09')&(df_transactions['Year'] == '2014')]\n",
    "df_transactions['revenue'] = df_transactions['item_cnt_day']*df_transactions['item_price']\n",
    "\n",
    "g = df_transactions.groupby('shop_id')['revenue'].sum()\n",
    "\n",
    "# for shop_id, shop_id_df in g:\n",
    "#     print (shop_id)\n",
    "#     print(shop_id_df)\n",
    "\n",
    "# print (g.sum())\n",
    "# print (g.sum().max())\n",
    "\n",
    "print (g)\n",
    "print (g.max())\n",
    "# df_transactions['Day'] = pd.DatetimeIndex(df_transactions['date']).day\n",
    "# df_transactions['Month'] = pd.DatetimeIndex(df_transactions['date']).month\n",
    "# df_transactions['Year'] = pd.DatetimeIndex(df_transactions['date']).year\n",
    "\n",
    "\n",
    "\n",
    "max_revenue = 7982852.2\n",
    "grader.submit_tag('max_revenue', max_revenue)"
   ]
  },
  {
   "cell_type": "markdown",
   "metadata": {},
   "source": [
    "Great! Let's move on and answer another question:\n",
    "\n",
    "<ol start=\"2\">\n",
    "  <li><b>What item category generated the highest revenue in summer 2014?</b></li>\n",
    "</ol>\n",
    "\n",
    "* Submit `id` of the category found.\n",
    "    \n",
    "* Here we call \"summer\" the period from June to August.\n",
    "\n",
    "*Hints:*\n",
    "\n",
    "* Note, that for an object `x` of type `pd.Series`: `x.argmax()` returns **index** of the maximum element. `pd.Series` can have non-trivial index (not `[1, 2, 3, ... ]`)."
   ]
  },
  {
   "cell_type": "code",
   "execution_count": 50,
   "metadata": {},
   "outputs": [
    {
     "name": "stdout",
     "output_type": "stream",
     "text": [
      "20\n",
      "Current answer for task category_id_with_max_revenue is: 20\n"
     ]
    }
   ],
   "source": [
    "# YOUR CODE GOES HERE\n",
    "dg_transactions = transactions.copy()\n",
    "dg_transactions = dg_transactions.loc[((dg_transactions['month'] == '06') | (dg_transactions['month'] == '07')| (dg_transactions['month'] == '08'))&(dg_transactions['Year'] == '2014')]\n",
    "dg_transactions['revenue'] = dg_transactions['item_cnt_day']*dg_transactions['item_price']\n",
    "dg_transactions['category'] = [ items.item_category_id.iloc[item] for item in dg_transactions['item_id']]\n",
    "\n",
    "h = dg_transactions.groupby('category').sum()\n",
    "# print(f)\n",
    "\n",
    "print (h['revenue'].argmax())\n",
    "# print (f.loc[(f['item_id'] == '6675')])\n",
    "# print (f['revenue'].argmax())\n",
    "# for item_id, item_id_df in f:\n",
    "#     print (item_id)\n",
    "#     print(item_id_df)\n",
    "\n",
    "category_id_with_max_revenue = 20 # PUT YOUR ANSWER IN THIS VARIABLE\n",
    "grader.submit_tag('category_id_with_max_revenue', category_id_with_max_revenue)"
   ]
  },
  {
   "cell_type": "markdown",
   "metadata": {},
   "source": [
    "<ol start=\"3\">\n",
    "  <li><b>How many items are there, such that their price stays constant (to the best of our knowledge) during the whole period of time?</b></li>\n",
    "</ol>\n",
    "\n",
    "* Let's assume, that the items are returned for the same price as they had been sold."
   ]
  },
  {
   "cell_type": "code",
   "execution_count": 8,
   "metadata": {},
   "outputs": [
    {
     "name": "stdout",
     "output_type": "stream",
     "text": [
      "mehdiooooooooooooooooooooooooooooooooooo\n",
      "5926.0\n",
      "Current answer for task num_items_constant_price is: 5926\n"
     ]
    }
   ],
   "source": [
    "# YOUR CODE GOES HERE\n",
    "# DUM = transactions[:50]\n",
    "\n",
    "\n",
    "# for item_id, item_id_df in DUM.groupby('item_id'):\n",
    "#     print (\"ITEM_ID %d\" %item_id)\n",
    "#     print(item_id_df)\n",
    "\n",
    "L = transactions.groupby('item_id').agg(lambda x: len(set(x)) == 1)['item_price'].sum()\n",
    "\n",
    "print(\"mehdiooooooooooooooooooooooooooooooooooo\")\n",
    "print (L)\n",
    "\n",
    "\n",
    "\n",
    "\n",
    "num_items_constant_price =5926 # PUT YOUR ANSWER IN THIS VARIABLE\n",
    "grader.submit_tag('num_items_constant_price', num_items_constant_price)"
   ]
  },
  {
   "cell_type": "markdown",
   "metadata": {},
   "source": [
    "Remember, the data can sometimes be noisy."
   ]
  },
  {
   "cell_type": "markdown",
   "metadata": {},
   "source": [
    "<ol start=\"4\">\n",
    "  <li><b>What was the variance of the number of sold items per day sequence for the shop with `shop_id = 25` in December, 2014? Do not count the items, that were sold but returned back later.</b></li>\n",
    "</ol>\n",
    "\n",
    "* Fill `total_num_items_sold` and `days` arrays, and plot the sequence with the code below.\n",
    "* Then compute variance. Remember, there can be differences in how you normalize variance (biased or unbiased estimate, see [link](https://math.stackexchange.com/questions/496627/the-difference-between-unbiased-biased-estimator-variance)). Compute ***unbiased*** estimate (use the right value for `ddof` argument in `pd.var` or `np.var`). "
   ]
  },
  {
   "cell_type": "code",
   "execution_count": 38,
   "metadata": {},
   "outputs": [
    {
     "name": "stdout",
     "output_type": "stream",
     "text": [
      "117167.70229885059\n",
      "Current answer for task total_num_items_sold_var is: 117167.70229885059\n"
     ]
    }
   ],
   "source": [
    "shop_id = 25\n",
    "\n",
    "\n",
    "shop_id_25_dec_2014 = transactions.loc[(transactions['month'] == '12')&(transactions['Year'] == '2014') ]\n",
    "shop_id_25_dec_2014 = shop_id_25_dec_2014.loc[(transactions['shop_id'] == 25)]\n",
    "shop_id_25_dec_2014 = shop_id_25_dec_2014.sort_values(by=['day'])\n",
    "#print (shop_id_25_dec_2014.head(10))\n",
    "\n",
    "\n",
    "u= shop_id_25_dec_2014.groupby('day')['item_cnt_day'].sum()\n",
    "\n",
    "print (np.var(u,ddof=1))\n",
    "\n",
    "# item_cnt_day =[]\n",
    "# i=1\n",
    "# for item_cnt, item_cnt_df in u:\n",
    "#     print (i)\n",
    "#     print (item_cnt)\n",
    "#     print(item_cnt_df)\n",
    "#     item_cnt_day.append(item_cnt_df.sum())\n",
    "#     i+=1\n",
    "\n",
    "# print(item_cnt_day)\n",
    "\n",
    "# total_num_items_sold =shop_id_25_dec_2014.groupby('day')['item_cnt_day'].sum() # YOUR CODE GOES HERE\n",
    "# days = shop_id_25_dec_2014['day']# YOUR CODE GOES HERE\n",
    "\n",
    "# # # Plot it\n",
    "# plt.plot(days, total_num_items_sold)\n",
    "# plt.ylabel('Num items')\n",
    "# plt.xlabel('Day')\n",
    "# plt.title(\"Daily revenue for shop_id = 25\")\n",
    "# plt.show()\n",
    "\n",
    "total_num_items_sold_var = 117167.70229885059 # PUT YOUR ANSWER IN THIS VARIABLE\n",
    "grader.submit_tag('total_num_items_sold_var', total_num_items_sold_var)"
   ]
  },
  {
   "cell_type": "markdown",
   "metadata": {},
   "source": [
    "## Authorization & Submission\n",
    "To submit assignment to Cousera platform, please, enter your e-mail and token into the variables below. You can generate token on the programming assignment page. *Note:* Token expires 30 minutes after generation."
   ]
  },
  {
   "cell_type": "code",
   "execution_count": 53,
   "metadata": {},
   "outputs": [
    {
     "name": "stdout",
     "output_type": "stream",
     "text": [
      "You want to submit these numbers:\n",
      "Task max_revenue: 7982852.2\n",
      "Task category_id_with_max_revenue: 20\n",
      "Task num_items_constant_price: 5926\n",
      "Task total_num_items_sold_var: 117167.70229885059\n"
     ]
    }
   ],
   "source": [
    "STUDENT_EMAIL = \"mehdi.mashayekhi.65@gmail.com\" # EMAIL HERE\n",
    "STUDENT_TOKEN = \"CjCcAKOd9kKjcD3n\" # TOKEN HERE\n",
    "grader.status()"
   ]
  },
  {
   "cell_type": "code",
   "execution_count": 54,
   "metadata": {},
   "outputs": [
    {
     "name": "stdout",
     "output_type": "stream",
     "text": [
      "Submitted to Coursera platform. See results on assignment page!\n"
     ]
    }
   ],
   "source": [
    "grader.submit(STUDENT_EMAIL, STUDENT_TOKEN)"
   ]
  },
  {
   "cell_type": "markdown",
   "metadata": {},
   "source": [
    "Well done! :)"
   ]
  }
 ],
 "metadata": {
  "hw_version": "1.0.0",
  "kernelspec": {
   "display_name": "Python 3",
   "language": "python",
   "name": "python3"
  },
  "language_info": {
   "codemirror_mode": {
    "name": "ipython",
    "version": 3
   },
   "file_extension": ".py",
   "mimetype": "text/x-python",
   "name": "python",
   "nbconvert_exporter": "python",
   "pygments_lexer": "ipython3",
   "version": "3.6.0"
  }
 },
 "nbformat": 4,
 "nbformat_minor": 2
}
